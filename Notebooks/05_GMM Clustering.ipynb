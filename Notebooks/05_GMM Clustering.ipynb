{
 "cells": [
  {
   "cell_type": "code",
   "execution_count": 50,
   "id": "6775219a-bad0-46c5-a131-dda4ddec74ba",
   "metadata": {},
   "outputs": [],
   "source": [
    "import matplotlib.pyplot as plt\n",
    "import seaborn as sns\n",
    "import pandas as pd\n",
    "import numpy as np\n",
    "from sklearn.mixture import GaussianMixture\n",
    "from sklearn.model_selection import GridSearchCV\n",
    "from sklearn import preprocessing"
   ]
  },
  {
   "cell_type": "markdown",
   "id": "f6b194ff-d5bb-4cc0-9bc6-8fe92a5d52d1",
   "metadata": {},
   "source": [
    "### Import Latent Space Embeddings"
   ]
  },
  {
   "cell_type": "code",
   "execution_count": 10,
   "id": "0af8dec4-fa23-4637-ae83-4fc5d028edd0",
   "metadata": {},
   "outputs": [],
   "source": [
    "# load in embedding dataframe\n",
    "df = pd.read_csv('../data/encoded_data.csv', index_col=0)"
   ]
  },
  {
   "cell_type": "code",
   "execution_count": 40,
   "id": "242ab6b4-29fe-4df1-9943-ad2da92000a0",
   "metadata": {},
   "outputs": [],
   "source": [
    "# split into training & validation sets\n",
    "\n",
    "train_len = int(0.8 * df.shape[0])\n",
    "#test_len = df.shape[0] - train_len\n",
    "\n",
    "train_indices = np.random.choice(df.shape[0], size=train_len, replace=False)\n",
    "train_dataset = df.iloc[train_indices,:]\n",
    "test_dataset = df.drop(index=df.iloc[train_indices, :].index.tolist())"
   ]
  },
  {
   "cell_type": "code",
   "execution_count": 52,
   "id": "18567b1c-376e-465e-8dac-6ae5dc81fe53",
   "metadata": {},
   "outputs": [],
   "source": [
    "# normalize the data\n",
    "scaler = preprocessing.StandardScaler().fit(train_dataset)\n",
    "\n",
    "train_scaled = scaler.transform(train_dataset)"
   ]
  },
  {
   "cell_type": "markdown",
   "id": "6068fd88-19fb-41fd-8f88-6b8c8ad49733",
   "metadata": {},
   "source": [
    "### Generating Clusters"
   ]
  },
  {
   "cell_type": "code",
   "execution_count": 53,
   "id": "3d83b624-98ae-4179-94fd-039d794764c3",
   "metadata": {},
   "outputs": [
    {
     "data": {
      "text/html": [
       "<style>#sk-container-id-2 {color: black;background-color: white;}#sk-container-id-2 pre{padding: 0;}#sk-container-id-2 div.sk-toggleable {background-color: white;}#sk-container-id-2 label.sk-toggleable__label {cursor: pointer;display: block;width: 100%;margin-bottom: 0;padding: 0.3em;box-sizing: border-box;text-align: center;}#sk-container-id-2 label.sk-toggleable__label-arrow:before {content: \"▸\";float: left;margin-right: 0.25em;color: #696969;}#sk-container-id-2 label.sk-toggleable__label-arrow:hover:before {color: black;}#sk-container-id-2 div.sk-estimator:hover label.sk-toggleable__label-arrow:before {color: black;}#sk-container-id-2 div.sk-toggleable__content {max-height: 0;max-width: 0;overflow: hidden;text-align: left;background-color: #f0f8ff;}#sk-container-id-2 div.sk-toggleable__content pre {margin: 0.2em;color: black;border-radius: 0.25em;background-color: #f0f8ff;}#sk-container-id-2 input.sk-toggleable__control:checked~div.sk-toggleable__content {max-height: 200px;max-width: 100%;overflow: auto;}#sk-container-id-2 input.sk-toggleable__control:checked~label.sk-toggleable__label-arrow:before {content: \"▾\";}#sk-container-id-2 div.sk-estimator input.sk-toggleable__control:checked~label.sk-toggleable__label {background-color: #d4ebff;}#sk-container-id-2 div.sk-label input.sk-toggleable__control:checked~label.sk-toggleable__label {background-color: #d4ebff;}#sk-container-id-2 input.sk-hidden--visually {border: 0;clip: rect(1px 1px 1px 1px);clip: rect(1px, 1px, 1px, 1px);height: 1px;margin: -1px;overflow: hidden;padding: 0;position: absolute;width: 1px;}#sk-container-id-2 div.sk-estimator {font-family: monospace;background-color: #f0f8ff;border: 1px dotted black;border-radius: 0.25em;box-sizing: border-box;margin-bottom: 0.5em;}#sk-container-id-2 div.sk-estimator:hover {background-color: #d4ebff;}#sk-container-id-2 div.sk-parallel-item::after {content: \"\";width: 100%;border-bottom: 1px solid gray;flex-grow: 1;}#sk-container-id-2 div.sk-label:hover label.sk-toggleable__label {background-color: #d4ebff;}#sk-container-id-2 div.sk-serial::before {content: \"\";position: absolute;border-left: 1px solid gray;box-sizing: border-box;top: 0;bottom: 0;left: 50%;z-index: 0;}#sk-container-id-2 div.sk-serial {display: flex;flex-direction: column;align-items: center;background-color: white;padding-right: 0.2em;padding-left: 0.2em;position: relative;}#sk-container-id-2 div.sk-item {position: relative;z-index: 1;}#sk-container-id-2 div.sk-parallel {display: flex;align-items: stretch;justify-content: center;background-color: white;position: relative;}#sk-container-id-2 div.sk-item::before, #sk-container-id-2 div.sk-parallel-item::before {content: \"\";position: absolute;border-left: 1px solid gray;box-sizing: border-box;top: 0;bottom: 0;left: 50%;z-index: -1;}#sk-container-id-2 div.sk-parallel-item {display: flex;flex-direction: column;z-index: 1;position: relative;background-color: white;}#sk-container-id-2 div.sk-parallel-item:first-child::after {align-self: flex-end;width: 50%;}#sk-container-id-2 div.sk-parallel-item:last-child::after {align-self: flex-start;width: 50%;}#sk-container-id-2 div.sk-parallel-item:only-child::after {width: 0;}#sk-container-id-2 div.sk-dashed-wrapped {border: 1px dashed gray;margin: 0 0.4em 0.5em 0.4em;box-sizing: border-box;padding-bottom: 0.4em;background-color: white;}#sk-container-id-2 div.sk-label label {font-family: monospace;font-weight: bold;display: inline-block;line-height: 1.2em;}#sk-container-id-2 div.sk-label-container {text-align: center;}#sk-container-id-2 div.sk-container {/* jupyter's `normalize.less` sets `[hidden] { display: none; }` but bootstrap.min.css set `[hidden] { display: none !important; }` so we also need the `!important` here to be able to override the default hidden behavior on the sphinx rendered scikit-learn.org. See: https://github.com/scikit-learn/scikit-learn/issues/21755 */display: inline-block !important;position: relative;}#sk-container-id-2 div.sk-text-repr-fallback {display: none;}</style><div id=\"sk-container-id-2\" class=\"sk-top-container\"><div class=\"sk-text-repr-fallback\"><pre>GridSearchCV(estimator=GaussianMixture(),\n",
       "             param_grid={&#x27;covariance_type&#x27;: [&#x27;spherical&#x27;, &#x27;tied&#x27;, &#x27;diag&#x27;,\n",
       "                                             &#x27;full&#x27;],\n",
       "                         &#x27;n_components&#x27;: range(1, 7)},\n",
       "             scoring=&lt;function gmm_bic_score at 0x7f1c504b49d0&gt;)</pre><b>In a Jupyter environment, please rerun this cell to show the HTML representation or trust the notebook. <br />On GitHub, the HTML representation is unable to render, please try loading this page with nbviewer.org.</b></div><div class=\"sk-container\" hidden><div class=\"sk-item sk-dashed-wrapped\"><div class=\"sk-label-container\"><div class=\"sk-label sk-toggleable\"><input class=\"sk-toggleable__control sk-hidden--visually\" id=\"sk-estimator-id-4\" type=\"checkbox\" ><label for=\"sk-estimator-id-4\" class=\"sk-toggleable__label sk-toggleable__label-arrow\">GridSearchCV</label><div class=\"sk-toggleable__content\"><pre>GridSearchCV(estimator=GaussianMixture(),\n",
       "             param_grid={&#x27;covariance_type&#x27;: [&#x27;spherical&#x27;, &#x27;tied&#x27;, &#x27;diag&#x27;,\n",
       "                                             &#x27;full&#x27;],\n",
       "                         &#x27;n_components&#x27;: range(1, 7)},\n",
       "             scoring=&lt;function gmm_bic_score at 0x7f1c504b49d0&gt;)</pre></div></div></div><div class=\"sk-parallel\"><div class=\"sk-parallel-item\"><div class=\"sk-item\"><div class=\"sk-label-container\"><div class=\"sk-label sk-toggleable\"><input class=\"sk-toggleable__control sk-hidden--visually\" id=\"sk-estimator-id-5\" type=\"checkbox\" ><label for=\"sk-estimator-id-5\" class=\"sk-toggleable__label sk-toggleable__label-arrow\">estimator: GaussianMixture</label><div class=\"sk-toggleable__content\"><pre>GaussianMixture()</pre></div></div></div><div class=\"sk-serial\"><div class=\"sk-item\"><div class=\"sk-estimator sk-toggleable\"><input class=\"sk-toggleable__control sk-hidden--visually\" id=\"sk-estimator-id-6\" type=\"checkbox\" ><label for=\"sk-estimator-id-6\" class=\"sk-toggleable__label sk-toggleable__label-arrow\">GaussianMixture</label><div class=\"sk-toggleable__content\"><pre>GaussianMixture()</pre></div></div></div></div></div></div></div></div></div></div>"
      ],
      "text/plain": [
       "GridSearchCV(estimator=GaussianMixture(),\n",
       "             param_grid={'covariance_type': ['spherical', 'tied', 'diag',\n",
       "                                             'full'],\n",
       "                         'n_components': range(1, 7)},\n",
       "             scoring=<function gmm_bic_score at 0x7f1c504b49d0>)"
      ]
     },
     "execution_count": 53,
     "metadata": {},
     "output_type": "execute_result"
    }
   ],
   "source": [
    "def gmm_bic_score(estimator, X):\n",
    "    \"\"\"Callable to pass to GridSearchCV that will use the BIC score.\"\"\"\n",
    "    # Make it negative since GridSearchCV expects a score to maximize\n",
    "    return -estimator.bic(X)\n",
    "\n",
    "\n",
    "param_grid = {\n",
    "    \"n_components\": range(1, 7),\n",
    "    \"covariance_type\": [\"spherical\", \"tied\", \"diag\", \"full\"],\n",
    "}\n",
    "grid_search = GridSearchCV(\n",
    "    GaussianMixture(), param_grid=param_grid, scoring=gmm_bic_score\n",
    ")\n",
    "grid_search.fit(train_scaled)"
   ]
  },
  {
   "cell_type": "code",
   "execution_count": 56,
   "id": "10c20f2b-70da-4dfd-b2fc-25a43a8a863c",
   "metadata": {},
   "outputs": [
    {
     "data": {
      "text/html": [
       "<div>\n",
       "<style scoped>\n",
       "    .dataframe tbody tr th:only-of-type {\n",
       "        vertical-align: middle;\n",
       "    }\n",
       "\n",
       "    .dataframe tbody tr th {\n",
       "        vertical-align: top;\n",
       "    }\n",
       "\n",
       "    .dataframe thead th {\n",
       "        text-align: right;\n",
       "    }\n",
       "</style>\n",
       "<table border=\"1\" class=\"dataframe\">\n",
       "  <thead>\n",
       "    <tr style=\"text-align: right;\">\n",
       "      <th></th>\n",
       "      <th>Number of components</th>\n",
       "      <th>Type of covariance</th>\n",
       "      <th>BIC score</th>\n",
       "    </tr>\n",
       "  </thead>\n",
       "  <tbody>\n",
       "    <tr>\n",
       "      <th>21</th>\n",
       "      <td>4</td>\n",
       "      <td>full</td>\n",
       "      <td>-44669.579318</td>\n",
       "    </tr>\n",
       "    <tr>\n",
       "      <th>22</th>\n",
       "      <td>5</td>\n",
       "      <td>full</td>\n",
       "      <td>-43733.301322</td>\n",
       "    </tr>\n",
       "    <tr>\n",
       "      <th>20</th>\n",
       "      <td>3</td>\n",
       "      <td>full</td>\n",
       "      <td>-43702.402254</td>\n",
       "    </tr>\n",
       "    <tr>\n",
       "      <th>23</th>\n",
       "      <td>6</td>\n",
       "      <td>full</td>\n",
       "      <td>-42368.400609</td>\n",
       "    </tr>\n",
       "    <tr>\n",
       "      <th>19</th>\n",
       "      <td>2</td>\n",
       "      <td>full</td>\n",
       "      <td>-39034.323910</td>\n",
       "    </tr>\n",
       "  </tbody>\n",
       "</table>\n",
       "</div>"
      ],
      "text/plain": [
       "   Number of components Type of covariance     BIC score\n",
       "21                    4               full -44669.579318\n",
       "22                    5               full -43733.301322\n",
       "20                    3               full -43702.402254\n",
       "23                    6               full -42368.400609\n",
       "19                    2               full -39034.323910"
      ]
     },
     "execution_count": 56,
     "metadata": {},
     "output_type": "execute_result"
    }
   ],
   "source": [
    "df_results = pd.DataFrame(grid_search.cv_results_)[\n",
    "    [\"param_n_components\", \"param_covariance_type\", \"mean_test_score\"]\n",
    "]\n",
    "df_results[\"mean_test_score\"] = -df_results[\"mean_test_score\"]\n",
    "df_results = df_results.rename(\n",
    "    columns={\n",
    "        \"param_n_components\": \"Number of components\",\n",
    "        \"param_covariance_type\": \"Type of covariance\",\n",
    "        \"mean_test_score\": \"BIC score\",\n",
    "    }\n",
    ")\n",
    "df_results.sort_values(by=\"BIC score\").head()"
   ]
  },
  {
   "cell_type": "code",
   "execution_count": 57,
   "id": "12add040-d275-464b-98e0-df3c458e22a5",
   "metadata": {},
   "outputs": [
    {
     "data": {
      "image/png": "[encoded data removed]",
      "text/plain": [
       "<Figure size 461.25x360 with 1 Axes>"
      ]
     },
     "metadata": {
      "needs_background": "light"
     },
     "output_type": "display_data"
    }
   ],
   "source": [
    "sns.catplot(\n",
    "    data=df_results,\n",
    "    kind=\"bar\",\n",
    "    x=\"Number of components\",\n",
    "    y=\"BIC score\",\n",
    "    hue=\"Type of covariance\",\n",
    ")\n",
    "plt.show()"
   ]
  },
  {
   "cell_type": "markdown",
   "id": "699caf28-d2b3-4f21-90e9-25431258829f",
   "metadata": {},
   "source": [
    "### Visualizing Clusters & Determining Performance"
   ]
  },
  {
   "cell_type": "code",
   "execution_count": 58,
   "id": "288d61f8-570f-4bc2-a2b2-27279110a2b5",
   "metadata": {},
   "outputs": [
    {
     "data": {
      "text/plain": [
       "array([[ 2.07100617e-01,  1.08383300e+00, -4.19197977e-01,\n",
       "         8.79503336e-01,  5.45588426e-01, -3.69462682e-01,\n",
       "        -4.90530010e-01,  2.45171608e-02, -6.51994743e-01,\n",
       "        -6.84539017e-01,  1.94255231e-01,  8.98251496e-01,\n",
       "         8.00817525e-01,  8.46693104e-01, -8.52964861e-01,\n",
       "        -1.06570654e-01,  1.12635614e+00, -4.10732672e-01,\n",
       "         1.78442097e-01,  1.22257018e-02,  7.94086429e-01,\n",
       "         2.82126952e-01,  1.84742081e-01, -4.38629738e-01,\n",
       "        -1.41966675e+00,  1.10521654e-01, -4.79258064e-02,\n",
       "        -5.51636686e-01,  5.53965212e-01, -5.83733984e-01,\n",
       "        -4.95334462e-01, -5.23299925e-01],\n",
       "       [ 4.75203988e-02, -1.49747596e+00, -6.95749425e-01,\n",
       "         3.42645954e-01, -2.38656828e-01, -7.18041190e-02,\n",
       "        -6.02818633e-01,  1.03657065e+00, -1.36061923e-01,\n",
       "        -2.02297950e-01,  1.67072609e-02, -1.65808120e+00,\n",
       "         5.92974754e-01, -8.42755828e-02, -2.60871700e-01,\n",
       "        -5.48913971e-01, -1.02265483e+00,  7.30979417e-01,\n",
       "        -4.56410167e-01,  4.61904775e-01, -1.51536273e+00,\n",
       "        -7.72561827e-02,  1.10597701e+00, -1.41039125e+00,\n",
       "         1.30632373e+00,  2.20214113e-01,  2.77095175e-01,\n",
       "        -3.07135559e-01,  4.09622676e-01, -1.81293148e-01,\n",
       "         3.37251435e-01, -6.47718764e-01],\n",
       "       [-6.09985931e-02, -4.65093395e-03,  5.65136608e-01,\n",
       "        -1.08935026e-01, -2.89379725e-01,  3.16947897e-01,\n",
       "         7.99363379e-02, -2.34452968e-01,  3.09845904e-01,\n",
       "         1.52324657e-01, -2.31455798e-01,  1.73962929e-01,\n",
       "        -4.84244747e-01, -3.38308617e-01,  4.33210904e-01,\n",
       "         3.62193220e-01, -1.02958396e-01,  3.02009985e-02,\n",
       "         1.54762775e-01, -6.42499498e-03,  1.09067536e-01,\n",
       "         1.75149529e-02, -7.63963389e-02,  3.79509096e-01,\n",
       "         1.41102051e-01,  1.06936680e-01,  5.45081339e-02,\n",
       "         1.88144351e-01, -2.92639726e-01,  2.99268580e-01,\n",
       "         7.80713624e-03,  4.18270463e-01],\n",
       "       [-5.94661763e-02,  1.06567945e-01, -2.83683719e-01,\n",
       "        -5.74185633e-01,  2.49110044e-01, -2.42370775e-01,\n",
       "         5.08983805e-01, -1.85592016e-01, -1.33471936e-02,\n",
       "         3.01638067e-01,  2.45039997e-01,  1.95851388e-02,\n",
       "        -4.12626640e-02,  5.17942454e-02, -1.88499444e-02,\n",
       "        -2.31702870e-01, -1.36277144e-02, -1.74496557e-01,\n",
       "        -1.25412521e-01, -2.44433928e-01,  1.17206506e-01,\n",
       "        -1.70156648e-01, -5.85852243e-01,  4.15739622e-01,\n",
       "        -1.07061309e-02, -3.64845585e-01, -2.06609981e-01,\n",
       "         2.12852499e-01, -9.77101963e-02, -1.60115795e-02,\n",
       "         1.27640091e-01, -9.51084325e-04]])"
      ]
     },
     "execution_count": 58,
     "metadata": {},
     "output_type": "execute_result"
    }
   ],
   "source": [
    "grid_search.best_estimator_.means_"
   ]
  }
 ],
 "metadata": {
  "kernelspec": {
   "display_name": "ooi_dev",
   "language": "python",
   "name": "conda-env-ooi_dev-py"
  },
  "language_info": {
   "codemirror_mode": {
    "name": "ipython",
    "version": 3
   },
   "file_extension": ".py",
   "mimetype": "text/x-python",
   "name": "python",
   "nbconvert_exporter": "python",
   "pygments_lexer": "ipython3",
   "version": "3.10.4"
  }
 },
 "nbformat": 4,
 "nbformat_minor": 5
}
