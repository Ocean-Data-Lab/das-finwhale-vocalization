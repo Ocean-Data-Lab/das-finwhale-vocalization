{
 "cells": [
  {
   "cell_type": "code",
   "execution_count": 1,
   "id": "58e8f6f2",
   "metadata": {},
   "outputs": [
    {
     "name": "stderr",
     "output_type": "stream",
     "text": [
      "/Users/hridaybaghar/opt/miniconda3/envs/ooi_dev_2/lib/python3.10/site-packages/tqdm/auto.py:22: TqdmWarning: IProgress not found. Please update jupyter and ipywidgets. See https://ipywidgets.readthedocs.io/en/stable/user_install.html\n",
      "  from .autonotebook import tqdm as notebook_tqdm\n",
      "/Users/hridaybaghar/opt/miniconda3/envs/ooi_dev_2/lib/python3.10/site-packages/torchvision/io/image.py:13: UserWarning: Failed to load image Python extension: dlopen(/Users/hridaybaghar/opt/miniconda3/envs/ooi_dev_2/lib/python3.10/site-packages/torchvision/image.so, 0x0006): Library not loaded: @rpath/libjpeg.8.dylib\n",
      "  Referenced from: <BE0CCD9A-269A-30E2-A23C-DA45E89EBB1F> /Users/hridaybaghar/opt/miniconda3/envs/ooi_dev_2/lib/python3.10/site-packages/torchvision/image.so\n",
      "  Reason: tried: '/Users/hridaybaghar/opt/miniconda3/envs/ooi_dev_2/lib/python3.10/site-packages/torchvision/../../../libjpeg.8.dylib' (no such file), '/Users/hridaybaghar/opt/miniconda3/envs/ooi_dev_2/lib/python3.10/site-packages/torchvision/../../../libjpeg.8.dylib' (no such file), '/Users/hridaybaghar/opt/miniconda3/envs/ooi_dev_2/lib/python3.10/lib-dynload/../../libjpeg.8.dylib' (no such file), '/Users/hridaybaghar/opt/miniconda3/envs/ooi_dev_2/bin/../lib/libjpeg.8.dylib' (no such file), '/System/Volumes/Preboot/Cryptexes/OS@rpath/libjpeg.8.dylib' (no such file), '/Users/hridaybaghar/opt/miniconda3/envs/ooi_dev_2/lib/python3.10/site-packages/torchvision/../../../libjpeg.8.dylib' (no such file), '/Users/hridaybaghar/opt/miniconda3/envs/ooi_dev_2/lib/python3.10/site-packages/torchvision/../../../libjpeg.8.dylib' (no such file), '/Users/hridaybaghar/opt/miniconda3/envs/ooi_dev_2/lib/python3.10/lib-dynload/../../libjpeg.8.dylib' (no such file), '/Users/hridaybaghar/opt/miniconda3/envs/ooi_dev_2/bin/../lib/libjpeg.8.dylib' (no such file), '/usr/local/lib/libjpeg.8.dylib' (no such file), '/usr/lib/libjpeg.8.dylib' (no such file, not in dyld cache)\n",
      "  warn(f\"Failed to load image Python extension: {e}\")\n"
     ]
    }
   ],
   "source": [
    "import plotly.graph_objects as go\n",
    "import plotly.express as px\n",
    "import plotly.io as pio\n",
    "import pandas as pd\n",
    "from torch.utils.data import Dataset, DataLoader\n",
    "import torchvision.transforms as transforms\n",
    "import os\n",
    "import dash\n",
    "import dash_core_components as dcc\n",
    "import dash_html_components as html\n",
    "from dash.dependencies import Input, Output\n",
    "from PIL import Image\n",
    "\n",
    "# This will open the plot in a new browser tab. Other renderers can be found at https://plotly.com/python/renderers/\n",
    "pio.renderers.default = 'browser'"
   ]
  },
  {
   "cell_type": "markdown",
   "id": "83935ba6",
   "metadata": {},
   "source": [
    "## Importing and cleaning data"
   ]
  },
  {
   "cell_type": "code",
   "execution_count": 2,
   "id": "900e613a",
   "metadata": {},
   "outputs": [],
   "source": [
    "# import in clustering results\n",
    "df = pd.read_csv('../data/eighty_cluster_results.csv')"
   ]
  },
  {
   "cell_type": "code",
   "execution_count": 3,
   "id": "fa878339",
   "metadata": {},
   "outputs": [],
   "source": [
    "# get approximate likelihood of \n",
    "def get_confidence_proportion(conf_level):\n",
    "    \"\"\"\n",
    "    Based on Confidence level return approximate confidence proportion\n",
    "    \"\"\"\n",
    "    if conf_level == 3:\n",
    "        return 1\n",
    "    elif conf_level == 2:\n",
    "        return 0.67\n",
    "    elif conf_level == 1:\n",
    "        return 0.33\n",
    "    else:\n",
    "        return 0\n",
    "\n",
    "df['confidence_proportion'] = df.signal_confidence.apply(get_confidence_proportion)"
   ]
  },
  {
   "cell_type": "markdown",
   "id": "12480c81",
   "metadata": {},
   "source": [
    "## Heatmap Visualization"
   ]
  },
  {
   "cell_type": "code",
   "execution_count": 4,
   "id": "0f81aff0",
   "metadata": {},
   "outputs": [],
   "source": [
    "def df_to_plotly(df):\n",
    "    return {'z': df.confidence_proportion.tolist(),\n",
    "            'x': df.time_start.str.replace(' ', 'T').tolist(),\n",
    "            'y': df.distance_start.tolist()}"
   ]
  },
  {
   "cell_type": "code",
   "execution_count": 5,
   "id": "9b327ac0",
   "metadata": {},
   "outputs": [],
   "source": [
    "fig = go.Figure(data=go.Heatmap(df_to_plotly(df)))\n",
    "fig.update_layout(\n",
    "    title='Fin Whale Vocalizations Heatmap',\n",
    "    xaxis_title='Time',\n",
    "    yaxis_title='Distance from shore (m)',\n",
    "    legend_title='Confidence Level',\n",
    "    hovermode='closest')"
   ]
  },
  {
   "attachments": {},
   "cell_type": "markdown",
   "id": "c3476737",
   "metadata": {},
   "source": [
    "# Utility to view original images"
   ]
  },
  {
   "cell_type": "code",
   "execution_count": 6,
   "id": "dd4f797f",
   "metadata": {},
   "outputs": [],
   "source": [
    "# Loading images of data\n",
    "class DASImageDataset(Dataset):\n",
    "    def __init__(self, root_dir, transform=transforms.ToTensor()):\n",
    "        self.root_dir = root_dir\n",
    "        self.files = os.listdir(self.root_dir)\n",
    "        self.transform = transform\n",
    "\n",
    "    def __len__(self):\n",
    "        return len(self.files)\n",
    "\n",
    "    def __getitem__(self, index):\n",
    "        img_file =(os.path.join(self.root_dir, self.files[index]))\n",
    "        img = Image.open(img_file)\n",
    "        \n",
    "        if self.transform:\n",
    "            img = self.transform(img)\n",
    "        \n",
    "        return img, self.files[index]\n",
    "    \n",
    "root_dir = '../data/south_dist_chunked_10000to47495_dx5_fs100_bpf14to35Hz'\n",
    "    \n",
    "orig_transform = transforms.Compose([transforms.ToTensor()])\n",
    "orig_images = DASImageDataset(root_dir=root_dir, transform=orig_transform)"
   ]
  },
  {
   "cell_type": "code",
   "execution_count": 22,
   "id": "ac28e4ca",
   "metadata": {},
   "outputs": [],
   "source": [
    "import numpy as np\n",
    "def view_images(partial_time, num_images=40):\n",
    "    filenames = sorted([(i,f) for i,f in enumerate(orig_images.files) if partial_time in f], key=lambda x: x[1])\n",
    "    filenames = filenames[:num_images]\n",
    "    num_images = 40 if num_images > 40 else num_images\n",
    "    print(f\"Displaying {num_images} images. Last file: {filenames[-1][1]}\")\n",
    "    images = [orig_images[i][0].numpy().squeeze().squeeze() for i,f in filenames]\n",
    "\n",
    "    filenames = [f.split('.png') for _,f in filenames]\n",
    "    filenames = [(f.split('_start')[0].split('.')[0], f.split('_start')[1].split('.')[0]) for f,_ in filenames]\n",
    "\n",
    "    fig = px.imshow(np.array(images), facet_col=0, facet_col_wrap=10, binary_string=True, facet_row_spacing=0.1, facet_col_spacing=0.01, height=1000, width=1500)\n",
    "    fig.update_xaxes(visible=False)\n",
    "    fig.update_yaxes(visible=False)\n",
    "\n",
    "    for i,(t,d) in enumerate(filenames):\n",
    "        fig.layout.annotations[i]['text'] = f\"{pd.to_datetime(t.replace('T', ' ')).strftime('%b %-d, %H:%M:%S')}<br>Start: {d}m\"\n",
    "    fig.show()\n",
    "    "
   ]
  },
  {
   "cell_type": "code",
   "execution_count": 24,
   "id": "5a658c26",
   "metadata": {},
   "outputs": [
    {
     "name": "stdout",
     "output_type": "stream",
     "text": [
      "Displaying 40 images. Last file: 2021-11-02T04:01:59.834000000_start89333.125.png\n"
     ]
    }
   ],
   "source": [
    "view_images('2021-11-02T04:01')"
   ]
  }
 ],
 "metadata": {
  "kernelspec": {
   "display_name": "Python 3 (ipykernel)",
   "language": "python",
   "name": "python3"
  },
  "language_info": {
   "codemirror_mode": {
    "name": "ipython",
    "version": 3
   },
   "file_extension": ".py",
   "mimetype": "text/x-python",
   "name": "python",
   "nbconvert_exporter": "python",
   "pygments_lexer": "ipython3",
   "version": "3.10.8"
  }
 },
 "nbformat": 4,
 "nbformat_minor": 5
}
